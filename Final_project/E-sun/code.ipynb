{
 "cells": [
  {
   "cell_type": "code",
   "execution_count": 1,
   "metadata": {},
   "outputs": [],
   "source": [
    "import pandas as pd\n",
    "import numpy as np"
   ]
  },
  {
   "cell_type": "code",
   "execution_count": 2,
   "metadata": {},
   "outputs": [],
   "source": [
    "train = pd.read_csv('train.csv')\n",
    "test = pd.read_csv('test.csv')"
   ]
  },
  {
   "cell_type": "code",
   "execution_count": 3,
   "metadata": {},
   "outputs": [
    {
     "name": "stdout",
     "output_type": "stream",
     "text": [
      "Train data shape: (60000, 235)\n",
      "Test data shape: (10000, 234)\n"
     ]
    }
   ],
   "source": [
    "print (\"Train data shape:\", train.shape)\n",
    "print (\"Test data shape:\", test.shape)"
   ]
  },
  {
   "cell_type": "code",
   "execution_count": 4,
   "metadata": {},
   "outputs": [
    {
     "data": {
      "text/html": [
       "<div>\n",
       "<style scoped>\n",
       "    .dataframe tbody tr th:only-of-type {\n",
       "        vertical-align: middle;\n",
       "    }\n",
       "\n",
       "    .dataframe tbody tr th {\n",
       "        vertical-align: top;\n",
       "    }\n",
       "\n",
       "    .dataframe thead th {\n",
       "        text-align: right;\n",
       "    }\n",
       "</style>\n",
       "<table border=\"1\" class=\"dataframe\">\n",
       "  <thead>\n",
       "    <tr style=\"text-align: right;\">\n",
       "      <th></th>\n",
       "      <th>building_id</th>\n",
       "      <th>building_material</th>\n",
       "      <th>city</th>\n",
       "      <th>txn_dt</th>\n",
       "      <th>total_floor</th>\n",
       "      <th>building_type</th>\n",
       "      <th>building_use</th>\n",
       "      <th>building_complete_dt</th>\n",
       "      <th>parking_way</th>\n",
       "      <th>parking_area</th>\n",
       "      <th>...</th>\n",
       "      <th>XIV_250</th>\n",
       "      <th>XIV_500</th>\n",
       "      <th>XIV_index_500</th>\n",
       "      <th>XIV_1000</th>\n",
       "      <th>XIV_index_1000</th>\n",
       "      <th>XIV_5000</th>\n",
       "      <th>XIV_index_5000</th>\n",
       "      <th>XIV_10000</th>\n",
       "      <th>XIV_index_10000</th>\n",
       "      <th>XIV_MIN</th>\n",
       "    </tr>\n",
       "  </thead>\n",
       "  <tbody>\n",
       "    <tr>\n",
       "      <th>0</th>\n",
       "      <td>X5gsdTWGS3W7JJQB</td>\n",
       "      <td>1</td>\n",
       "      <td>13</td>\n",
       "      <td>18634</td>\n",
       "      <td>2</td>\n",
       "      <td>4</td>\n",
       "      <td>2</td>\n",
       "      <td>1857</td>\n",
       "      <td>2</td>\n",
       "      <td>NaN</td>\n",
       "      <td>...</td>\n",
       "      <td>7</td>\n",
       "      <td>21</td>\n",
       "      <td>1</td>\n",
       "      <td>129</td>\n",
       "      <td>1</td>\n",
       "      <td>3991</td>\n",
       "      <td>1</td>\n",
       "      <td>8409</td>\n",
       "      <td>1</td>\n",
       "      <td>105.462231</td>\n",
       "    </tr>\n",
       "    <tr>\n",
       "      <th>1</th>\n",
       "      <td>BTshNOJyKHnT2YIT</td>\n",
       "      <td>8</td>\n",
       "      <td>7</td>\n",
       "      <td>20199</td>\n",
       "      <td>10</td>\n",
       "      <td>3</td>\n",
       "      <td>2</td>\n",
       "      <td>16011</td>\n",
       "      <td>2</td>\n",
       "      <td>NaN</td>\n",
       "      <td>...</td>\n",
       "      <td>18</td>\n",
       "      <td>44</td>\n",
       "      <td>1</td>\n",
       "      <td>67</td>\n",
       "      <td>1</td>\n",
       "      <td>1950</td>\n",
       "      <td>1</td>\n",
       "      <td>10725</td>\n",
       "      <td>1</td>\n",
       "      <td>100.819809</td>\n",
       "    </tr>\n",
       "    <tr>\n",
       "      <th>2</th>\n",
       "      <td>dhdymr0lV8N5kZOT</td>\n",
       "      <td>8</td>\n",
       "      <td>12</td>\n",
       "      <td>19769</td>\n",
       "      <td>4</td>\n",
       "      <td>4</td>\n",
       "      <td>10</td>\n",
       "      <td>18294</td>\n",
       "      <td>2</td>\n",
       "      <td>NaN</td>\n",
       "      <td>...</td>\n",
       "      <td>0</td>\n",
       "      <td>3</td>\n",
       "      <td>1</td>\n",
       "      <td>35</td>\n",
       "      <td>1</td>\n",
       "      <td>3707</td>\n",
       "      <td>1</td>\n",
       "      <td>19459</td>\n",
       "      <td>1</td>\n",
       "      <td>259.800543</td>\n",
       "    </tr>\n",
       "    <tr>\n",
       "      <th>3</th>\n",
       "      <td>VEwyGGMcD56w5BOc</td>\n",
       "      <td>10</td>\n",
       "      <td>7</td>\n",
       "      <td>20479</td>\n",
       "      <td>19</td>\n",
       "      <td>2</td>\n",
       "      <td>0</td>\n",
       "      <td>17837</td>\n",
       "      <td>2</td>\n",
       "      <td>NaN</td>\n",
       "      <td>...</td>\n",
       "      <td>16</td>\n",
       "      <td>60</td>\n",
       "      <td>1</td>\n",
       "      <td>144</td>\n",
       "      <td>1</td>\n",
       "      <td>6487</td>\n",
       "      <td>1</td>\n",
       "      <td>29400</td>\n",
       "      <td>1</td>\n",
       "      <td>22.941906</td>\n",
       "    </tr>\n",
       "    <tr>\n",
       "      <th>4</th>\n",
       "      <td>wmUeMoJZfsqaSX9b</td>\n",
       "      <td>8</td>\n",
       "      <td>3</td>\n",
       "      <td>18164</td>\n",
       "      <td>13</td>\n",
       "      <td>0</td>\n",
       "      <td>2</td>\n",
       "      <td>13272</td>\n",
       "      <td>2</td>\n",
       "      <td>NaN</td>\n",
       "      <td>...</td>\n",
       "      <td>4</td>\n",
       "      <td>18</td>\n",
       "      <td>1</td>\n",
       "      <td>76</td>\n",
       "      <td>1</td>\n",
       "      <td>1346</td>\n",
       "      <td>1</td>\n",
       "      <td>3280</td>\n",
       "      <td>1</td>\n",
       "      <td>181.213095</td>\n",
       "    </tr>\n",
       "  </tbody>\n",
       "</table>\n",
       "<p>5 rows × 234 columns</p>\n",
       "</div>"
      ],
      "text/plain": [
       "        building_id  building_material  city  txn_dt  total_floor  \\\n",
       "0  X5gsdTWGS3W7JJQB                  1    13   18634            2   \n",
       "1  BTshNOJyKHnT2YIT                  8     7   20199           10   \n",
       "2  dhdymr0lV8N5kZOT                  8    12   19769            4   \n",
       "3  VEwyGGMcD56w5BOc                 10     7   20479           19   \n",
       "4  wmUeMoJZfsqaSX9b                  8     3   18164           13   \n",
       "\n",
       "   building_type  building_use  building_complete_dt  parking_way  \\\n",
       "0              4             2                  1857            2   \n",
       "1              3             2                 16011            2   \n",
       "2              4            10                 18294            2   \n",
       "3              2             0                 17837            2   \n",
       "4              0             2                 13272            2   \n",
       "\n",
       "   parking_area  ...  XIV_250  XIV_500  XIV_index_500  XIV_1000  \\\n",
       "0           NaN  ...        7       21              1       129   \n",
       "1           NaN  ...       18       44              1        67   \n",
       "2           NaN  ...        0        3              1        35   \n",
       "3           NaN  ...       16       60              1       144   \n",
       "4           NaN  ...        4       18              1        76   \n",
       "\n",
       "   XIV_index_1000  XIV_5000  XIV_index_5000  XIV_10000  XIV_index_10000  \\\n",
       "0               1      3991               1       8409                1   \n",
       "1               1      1950               1      10725                1   \n",
       "2               1      3707               1      19459                1   \n",
       "3               1      6487               1      29400                1   \n",
       "4               1      1346               1       3280                1   \n",
       "\n",
       "      XIV_MIN  \n",
       "0  105.462231  \n",
       "1  100.819809  \n",
       "2  259.800543  \n",
       "3   22.941906  \n",
       "4  181.213095  \n",
       "\n",
       "[5 rows x 234 columns]"
      ]
     },
     "execution_count": 4,
     "metadata": {},
     "output_type": "execute_result"
    }
   ],
   "source": [
    "test.head()"
   ]
  },
  {
   "cell_type": "code",
   "execution_count": 5,
   "metadata": {},
   "outputs": [],
   "source": [
    "import matplotlib.pyplot as plt\n",
    "plt.style.use(style='ggplot')\n",
    "plt.rcParams['figure.figsize'] = (10, 6)"
   ]
  },
  {
   "cell_type": "code",
   "execution_count": 6,
   "metadata": {},
   "outputs": [
    {
     "data": {
      "text/plain": [
       "count    6.000000e+04\n",
       "mean     1.293727e+07\n",
       "std      5.522463e+07\n",
       "min      2.261495e+05\n",
       "25%      2.433114e+06\n",
       "50%      5.240482e+06\n",
       "75%      1.123932e+07\n",
       "max      5.088279e+09\n",
       "Name: total_price, dtype: float64"
      ]
     },
     "execution_count": 6,
     "metadata": {},
     "output_type": "execute_result"
    }
   ],
   "source": [
    "train.total_price.describe()"
   ]
  },
  {
   "cell_type": "code",
   "execution_count": 7,
   "metadata": {
    "scrolled": true
   },
   "outputs": [
    {
     "name": "stdout",
     "output_type": "stream",
     "text": [
      "Skew is: 40.18398482578027\n"
     ]
    },
    {
     "data": {
      "image/png": "[encoded data removed]",
      "text/plain": [
       "<Figure size 432x288 with 1 Axes>"
      ]
     },
     "metadata": {
      "needs_background": "light"
     },
     "output_type": "display_data"
    }
   ],
   "source": [
    "print (\"Skew is:\", train.total_price.skew())\n",
    "plt.hist(train.total_price, color='blue')\n",
    "plt.show()"
   ]
  },
  {
   "cell_type": "code",
   "execution_count": 8,
   "metadata": {},
   "outputs": [
    {
     "name": "stdout",
     "output_type": "stream",
     "text": [
      "Skew is: 0.3755626615001688\n"
     ]
    },
    {
     "data": {
      "image/png": "[encoded data removed]",
      "text/plain": [
       "<Figure size 432x288 with 1 Axes>"
      ]
     },
     "metadata": {
      "needs_background": "light"
     },
     "output_type": "display_data"
    }
   ],
   "source": [
    "target = np.log(train.total_price)\n",
    "print (\"Skew is:\", target.skew())\n",
    "plt.hist(target, color='blue')\n",
    "plt.show()"
   ]
  },
  {
   "cell_type": "code",
   "execution_count": 9,
   "metadata": {
    "scrolled": true
   },
   "outputs": [
    {
     "data": {
      "text/plain": [
       "building_material            int64\n",
       "city                         int64\n",
       "txn_dt                       int64\n",
       "total_floor                  int64\n",
       "building_type                int64\n",
       "building_use                 int64\n",
       "building_complete_dt         int64\n",
       "parking_way                  int64\n",
       "parking_area               float64\n",
       "parking_price              float64\n",
       "txn_floor                  float64\n",
       "land_area                  float64\n",
       "building_area              float64\n",
       "town                         int64\n",
       "lat                        float64\n",
       "lon                        float64\n",
       "village_income_median      float64\n",
       "town_population            float64\n",
       "town_area                  float64\n",
       "town_population_density    float64\n",
       "doc_rate                   float64\n",
       "master_rate                float64\n",
       "bachelor_rate              float64\n",
       "jobschool_rate             float64\n",
       "highschool_rate            float64\n",
       "junior_rate                float64\n",
       "elementary_rate            float64\n",
       "born_rate                  float64\n",
       "death_rate                 float64\n",
       "marriage_rate              float64\n",
       "                            ...   \n",
       "XII_MIN                    float64\n",
       "XIII_10                      int64\n",
       "XIII_50                      int64\n",
       "XIII_index_50                int64\n",
       "XIII_100                     int64\n",
       "XIII_250                     int64\n",
       "XIII_500                     int64\n",
       "XIII_index_500               int64\n",
       "XIII_1000                    int64\n",
       "XIII_index_1000              int64\n",
       "XIII_5000                    int64\n",
       "XIII_index_5000              int64\n",
       "XIII_10000                   int64\n",
       "XIII_index_10000             int64\n",
       "XIII_MIN                   float64\n",
       "XIV_10                       int64\n",
       "XIV_50                       int64\n",
       "XIV_index_50                 int64\n",
       "XIV_100                      int64\n",
       "XIV_250                      int64\n",
       "XIV_500                      int64\n",
       "XIV_index_500                int64\n",
       "XIV_1000                     int64\n",
       "XIV_index_1000               int64\n",
       "XIV_5000                     int64\n",
       "XIV_index_5000               int64\n",
       "XIV_10000                    int64\n",
       "XIV_index_10000              int64\n",
       "XIV_MIN                    float64\n",
       "total_price                float64\n",
       "Length: 234, dtype: object"
      ]
     },
     "execution_count": 9,
     "metadata": {},
     "output_type": "execute_result"
    }
   ],
   "source": [
    "numeric_features = train.select_dtypes(include=[np.number])\n",
    "numeric_features.dtypes"
   ]
  },
  {
   "cell_type": "code",
   "execution_count": 10,
   "metadata": {
    "scrolled": true
   },
   "outputs": [
    {
     "name": "stdout",
     "output_type": "stream",
     "text": [
      "total_price       1.000000\n",
      "building_area     0.459167\n",
      "parking_price     0.458674\n",
      "parking_area      0.377045\n",
      "land_area         0.313409\n",
      "master_rate       0.168603\n",
      "bachelor_rate     0.168585\n",
      "doc_rate          0.165599\n",
      "XIII_5000         0.161861\n",
      "jobschool_rate    0.150532\n",
      "Name: total_price, dtype: float64 \n",
      "\n",
      "VII_index_10000    NaN\n",
      "VIII_index_5000    NaN\n",
      "VIII_index_10000   NaN\n",
      "IX_index_10000     NaN\n",
      "X_index_5000       NaN\n",
      "X_index_10000      NaN\n",
      "XII_index_5000     NaN\n",
      "XII_index_10000    NaN\n",
      "XIV_index_5000     NaN\n",
      "XIV_index_10000    NaN\n",
      "Name: total_price, dtype: float64\n"
     ]
    }
   ],
   "source": [
    "corr = numeric_features.corr()\n",
    "print (corr['total_price'].sort_values(ascending=False)[:10], '\\n')\n",
    "print (corr['total_price'].sort_values(ascending=False)[-10:])"
   ]
  },
  {
   "cell_type": "code",
   "execution_count": 11,
   "metadata": {},
   "outputs": [
    {
     "data": {
      "text/plain": [
       "array([  647603.77047198,  3321452.        ,  9570885.31620637, ...,\n",
       "        2746688.93527209, 22661350.44357192, 15725223.99745048])"
      ]
     },
     "execution_count": 11,
     "metadata": {},
     "output_type": "execute_result"
    }
   ],
   "source": [
    "train.total_price.unique()"
   ]
  },
  {
   "cell_type": "code",
   "execution_count": 12,
   "metadata": {},
   "outputs": [],
   "source": [
    "#quality_pivot = train.pivot_table(index='building_id',\n",
    "                  #values='total_price', aggfunc=np.median)"
   ]
  },
  {
   "cell_type": "code",
   "execution_count": 13,
   "metadata": {},
   "outputs": [],
   "source": [
    "#quality_pivot"
   ]
  },
  {
   "cell_type": "code",
   "execution_count": null,
   "metadata": {},
   "outputs": [],
   "source": []
  },
  {
   "cell_type": "code",
   "execution_count": 14,
   "metadata": {},
   "outputs": [
    {
     "data": {
      "image/png": "[encoded data removed]",
      "text/plain": [
       "<Figure size 432x288 with 1 Axes>"
      ]
     },
     "metadata": {
      "needs_background": "light"
     },
     "output_type": "display_data"
    }
   ],
   "source": [
    "plt.scatter(x=train['village_income_median'], y=target)\n",
    "plt.ylabel('village_income_median')\n",
    "plt.xlabel('town_population')\n",
    "plt.show()"
   ]
  },
  {
   "cell_type": "code",
   "execution_count": 15,
   "metadata": {},
   "outputs": [],
   "source": [
    "train = train[train['village_income_median'] < 1200]"
   ]
  },
  {
   "cell_type": "code",
   "execution_count": 16,
   "metadata": {},
   "outputs": [
    {
     "data": {
      "image/png": "[encoded data removed]",
      "text/plain": [
       "<Figure size 432x288 with 1 Axes>"
      ]
     },
     "metadata": {
      "needs_background": "light"
     },
     "output_type": "display_data"
    }
   ],
   "source": [
    "plt.scatter(x=train['village_income_median'], y=np.log(train.total_price))\n",
    "plt.xlim(-200,1600) # This forces the same scale as before\n",
    "plt.ylabel('total_price')\n",
    "plt.xlabel('village_income_median')\n",
    "plt.show()"
   ]
  },
  {
   "cell_type": "code",
   "execution_count": 17,
   "metadata": {},
   "outputs": [
    {
     "data": {
      "text/html": [
       "<div>\n",
       "<style scoped>\n",
       "    .dataframe tbody tr th:only-of-type {\n",
       "        vertical-align: middle;\n",
       "    }\n",
       "\n",
       "    .dataframe tbody tr th {\n",
       "        vertical-align: top;\n",
       "    }\n",
       "\n",
       "    .dataframe thead th {\n",
       "        text-align: right;\n",
       "    }\n",
       "</style>\n",
       "<table border=\"1\" class=\"dataframe\">\n",
       "  <thead>\n",
       "    <tr style=\"text-align: right;\">\n",
       "      <th></th>\n",
       "      <th>Null Count</th>\n",
       "    </tr>\n",
       "    <tr>\n",
       "      <th>Feature</th>\n",
       "      <th></th>\n",
       "    </tr>\n",
       "  </thead>\n",
       "  <tbody>\n",
       "    <tr>\n",
       "      <th>parking_area</th>\n",
       "      <td>55387</td>\n",
       "    </tr>\n",
       "    <tr>\n",
       "      <th>parking_price</th>\n",
       "      <td>44910</td>\n",
       "    </tr>\n",
       "    <tr>\n",
       "      <th>txn_floor</th>\n",
       "      <td>15274</td>\n",
       "    </tr>\n",
       "    <tr>\n",
       "      <th>total_price</th>\n",
       "      <td>0</td>\n",
       "    </tr>\n",
       "    <tr>\n",
       "      <th>III_index_10000</th>\n",
       "      <td>0</td>\n",
       "    </tr>\n",
       "    <tr>\n",
       "      <th>III_5000</th>\n",
       "      <td>0</td>\n",
       "    </tr>\n",
       "    <tr>\n",
       "      <th>III_index_5000</th>\n",
       "      <td>0</td>\n",
       "    </tr>\n",
       "    <tr>\n",
       "      <th>III_10000</th>\n",
       "      <td>0</td>\n",
       "    </tr>\n",
       "    <tr>\n",
       "      <th>III_MIN</th>\n",
       "      <td>0</td>\n",
       "    </tr>\n",
       "    <tr>\n",
       "      <th>III_1000</th>\n",
       "      <td>0</td>\n",
       "    </tr>\n",
       "    <tr>\n",
       "      <th>IV_10</th>\n",
       "      <td>0</td>\n",
       "    </tr>\n",
       "    <tr>\n",
       "      <th>IV_50</th>\n",
       "      <td>0</td>\n",
       "    </tr>\n",
       "    <tr>\n",
       "      <th>IV_index_50</th>\n",
       "      <td>0</td>\n",
       "    </tr>\n",
       "    <tr>\n",
       "      <th>IV_100</th>\n",
       "      <td>0</td>\n",
       "    </tr>\n",
       "    <tr>\n",
       "      <th>IV_250</th>\n",
       "      <td>0</td>\n",
       "    </tr>\n",
       "    <tr>\n",
       "      <th>IV_500</th>\n",
       "      <td>0</td>\n",
       "    </tr>\n",
       "    <tr>\n",
       "      <th>III_index_1000</th>\n",
       "      <td>0</td>\n",
       "    </tr>\n",
       "    <tr>\n",
       "      <th>III_500</th>\n",
       "      <td>0</td>\n",
       "    </tr>\n",
       "    <tr>\n",
       "      <th>III_index_500</th>\n",
       "      <td>0</td>\n",
       "    </tr>\n",
       "    <tr>\n",
       "      <th>IV_1000</th>\n",
       "      <td>0</td>\n",
       "    </tr>\n",
       "    <tr>\n",
       "      <th>III_250</th>\n",
       "      <td>0</td>\n",
       "    </tr>\n",
       "    <tr>\n",
       "      <th>III_100</th>\n",
       "      <td>0</td>\n",
       "    </tr>\n",
       "    <tr>\n",
       "      <th>III_index_50</th>\n",
       "      <td>0</td>\n",
       "    </tr>\n",
       "    <tr>\n",
       "      <th>III_50</th>\n",
       "      <td>0</td>\n",
       "    </tr>\n",
       "    <tr>\n",
       "      <th>III_10</th>\n",
       "      <td>0</td>\n",
       "    </tr>\n",
       "  </tbody>\n",
       "</table>\n",
       "</div>"
      ],
      "text/plain": [
       "                 Null Count\n",
       "Feature                    \n",
       "parking_area          55387\n",
       "parking_price         44910\n",
       "txn_floor             15274\n",
       "total_price               0\n",
       "III_index_10000           0\n",
       "III_5000                  0\n",
       "III_index_5000            0\n",
       "III_10000                 0\n",
       "III_MIN                   0\n",
       "III_1000                  0\n",
       "IV_10                     0\n",
       "IV_50                     0\n",
       "IV_index_50               0\n",
       "IV_100                    0\n",
       "IV_250                    0\n",
       "IV_500                    0\n",
       "III_index_1000            0\n",
       "III_500                   0\n",
       "III_index_500             0\n",
       "IV_1000                   0\n",
       "III_250                   0\n",
       "III_100                   0\n",
       "III_index_50              0\n",
       "III_50                    0\n",
       "III_10                    0"
      ]
     },
     "execution_count": 17,
     "metadata": {},
     "output_type": "execute_result"
    }
   ],
   "source": [
    "nulls = pd.DataFrame(train.isnull().sum().sort_values(ascending=False)[:25])\n",
    "nulls.columns = ['Null Count']\n",
    "nulls.index.name = 'Feature'\n",
    "nulls"
   ]
  },
  {
   "cell_type": "code",
   "execution_count": 18,
   "metadata": {},
   "outputs": [
    {
     "name": "stdout",
     "output_type": "stream",
     "text": [
      "Unique values are: [  647603.77047198  3321452.          9570885.31620637 ...\n",
      "  1021149.81120992 22661350.44357192 15725223.99745048]\n"
     ]
    }
   ],
   "source": [
    "print (\"Unique values are:\", train.total_price.unique())"
   ]
  },
  {
   "cell_type": "code",
   "execution_count": 19,
   "metadata": {},
   "outputs": [
    {
     "data": {
      "text/html": [
       "<div>\n",
       "<style scoped>\n",
       "    .dataframe tbody tr th:only-of-type {\n",
       "        vertical-align: middle;\n",
       "    }\n",
       "\n",
       "    .dataframe tbody tr th {\n",
       "        vertical-align: top;\n",
       "    }\n",
       "\n",
       "    .dataframe thead th {\n",
       "        text-align: right;\n",
       "    }\n",
       "</style>\n",
       "<table border=\"1\" class=\"dataframe\">\n",
       "  <thead>\n",
       "    <tr style=\"text-align: right;\">\n",
       "      <th></th>\n",
       "      <th>building_id</th>\n",
       "    </tr>\n",
       "  </thead>\n",
       "  <tbody>\n",
       "    <tr>\n",
       "      <th>count</th>\n",
       "      <td>58377</td>\n",
       "    </tr>\n",
       "    <tr>\n",
       "      <th>unique</th>\n",
       "      <td>58377</td>\n",
       "    </tr>\n",
       "    <tr>\n",
       "      <th>top</th>\n",
       "      <td>bG2o0f0pJ8J01rgM</td>\n",
       "    </tr>\n",
       "    <tr>\n",
       "      <th>freq</th>\n",
       "      <td>1</td>\n",
       "    </tr>\n",
       "  </tbody>\n",
       "</table>\n",
       "</div>"
      ],
      "text/plain": [
       "             building_id\n",
       "count              58377\n",
       "unique             58377\n",
       "top     bG2o0f0pJ8J01rgM\n",
       "freq                   1"
      ]
     },
     "execution_count": 19,
     "metadata": {},
     "output_type": "execute_result"
    }
   ],
   "source": [
    "categoricals = train.select_dtypes(exclude=[np.number])\n",
    "categoricals.describe()"
   ]
  },
  {
   "cell_type": "code",
   "execution_count": 20,
   "metadata": {},
   "outputs": [
    {
     "name": "stdout",
     "output_type": "stream",
     "text": [
      "Original: \n",
      "\n",
      "180    2595\n",
      "13     2232\n",
      "10     2059\n",
      "158    1763\n",
      "164    1630\n",
      "17     1459\n",
      "208    1428\n",
      "188    1319\n",
      "39     1302\n",
      "204    1288\n",
      "6      1271\n",
      "101    1258\n",
      "330    1146\n",
      "284    1130\n",
      "34     1088\n",
      "84     1080\n",
      "290    1006\n",
      "196     986\n",
      "174     982\n",
      "148     960\n",
      "91      910\n",
      "61      881\n",
      "53      879\n",
      "179     836\n",
      "62      828\n",
      "52      810\n",
      "214     797\n",
      "50      741\n",
      "15      733\n",
      "136     726\n",
      "       ... \n",
      "316       7\n",
      "43        7\n",
      "268       6\n",
      "307       6\n",
      "240       6\n",
      "239       6\n",
      "123       6\n",
      "182       5\n",
      "89        5\n",
      "271       4\n",
      "198       4\n",
      "195       4\n",
      "131       3\n",
      "107       3\n",
      "31        3\n",
      "248       3\n",
      "141       3\n",
      "263       3\n",
      "234       2\n",
      "46        2\n",
      "143       2\n",
      "175       2\n",
      "64        2\n",
      "261       2\n",
      "232       1\n",
      "300       1\n",
      "40        1\n",
      "223       1\n",
      "59        1\n",
      "255       1\n",
      "Name: town, Length: 211, dtype: int64 \n",
      "\n"
     ]
    }
   ],
   "source": [
    "print (\"Original: \\n\")\n",
    "print (train.town.value_counts(), \"\\n\")"
   ]
  },
  {
   "cell_type": "code",
   "execution_count": 21,
   "metadata": {},
   "outputs": [
    {
     "data": {
      "image/png": "[encoded data removed]",
      "text/plain": [
       "<Figure size 432x288 with 1 Axes>"
      ]
     },
     "metadata": {
      "needs_background": "light"
     },
     "output_type": "display_data"
    }
   ],
   "source": [
    "condition_pivot = train.pivot_table(index='town', values='total_price', aggfunc=np.median)\n",
    "condition_pivot.plot(kind='bar', color='blue')\n",
    "plt.xlabel('town')\n",
    "plt.ylabel('total_price')\n",
    "plt.xticks(rotation=0)\n",
    "plt.show()"
   ]
  },
  {
   "cell_type": "code",
   "execution_count": 22,
   "metadata": {},
   "outputs": [],
   "source": [
    "data = train.select_dtypes(include=[np.number]).interpolate().dropna()"
   ]
  },
  {
   "cell_type": "code",
   "execution_count": 23,
   "metadata": {},
   "outputs": [
    {
     "data": {
      "text/plain": [
       "0"
      ]
     },
     "execution_count": 23,
     "metadata": {},
     "output_type": "execute_result"
    }
   ],
   "source": [
    "sum(data.isnull().sum() != 0)"
   ]
  },
  {
   "cell_type": "code",
   "execution_count": 24,
   "metadata": {},
   "outputs": [
    {
     "name": "stdout",
     "output_type": "stream",
     "text": [
      "(58377,)\n",
      "(58377, 7)\n"
     ]
    }
   ],
   "source": [
    "y = np.log(train.total_price)\n",
    "X = train[['building_area','land_area','master_rate','bachelor_rate','doc_rate','XIII_5000','jobschool_rate']]\n",
    "print(y.shape)\n",
    "print(X.shape)"
   ]
  },
  {
   "cell_type": "code",
   "execution_count": 25,
   "metadata": {},
   "outputs": [],
   "source": [
    "from sklearn.model_selection import train_test_split\n",
    "X_train, X_test, y_train, y_test = train_test_split(X, y, random_state=42, test_size=.33)"
   ]
  },
  {
   "cell_type": "code",
   "execution_count": 33,
   "metadata": {},
   "outputs": [],
   "source": [
    "from sklearn.ensemble import RandomForestRegressor\n",
    "from sklearn import linear_model\n",
    "lr = RandomForestRegressor(n_estimators=1000,random_state=42)"
   ]
  },
  {
   "cell_type": "code",
   "execution_count": 34,
   "metadata": {},
   "outputs": [],
   "source": [
    "model = lr.fit(X_train, y_train)"
   ]
  },
  {
   "cell_type": "code",
   "execution_count": 35,
   "metadata": {},
   "outputs": [
    {
     "name": "stdout",
     "output_type": "stream",
     "text": [
      "R^2 is: \n",
      " 0.8881393596554733\n"
     ]
    }
   ],
   "source": [
    "print (\"R^2 is: \\n\", model.score(X_test, y_test))"
   ]
  },
  {
   "cell_type": "code",
   "execution_count": 36,
   "metadata": {},
   "outputs": [],
   "source": [
    "predictions = model.predict(X_test)"
   ]
  },
  {
   "cell_type": "code",
   "execution_count": 37,
   "metadata": {},
   "outputs": [
    {
     "name": "stdout",
     "output_type": "stream",
     "text": [
      "RMSE is: \n",
      " 0.15142895280165578\n"
     ]
    }
   ],
   "source": [
    "from sklearn.metrics import mean_squared_error\n",
    "print ('RMSE is: \\n', mean_squared_error(y_test, predictions))"
   ]
  },
  {
   "cell_type": "code",
   "execution_count": 38,
   "metadata": {},
   "outputs": [
    {
     "data": {
      "image/png": "[encoded data removed]",
      "text/plain": [
       "<Figure size 432x288 with 1 Axes>"
      ]
     },
     "metadata": {
      "needs_background": "light"
     },
     "output_type": "display_data"
    }
   ],
   "source": [
    "actual_values = y_test\n",
    "plt.scatter(predictions, actual_values, alpha=.7,\n",
    "            color='b') #alpha helps to show overlapping data\n",
    "plt.xlabel('Predicted Price')\n",
    "plt.ylabel('Actual Price')\n",
    "plt.title('Radom Forest Model')\n",
    "plt.show()"
   ]
  },
  {
   "cell_type": "code",
   "execution_count": 40,
   "metadata": {},
   "outputs": [
    {
     "data": {
      "image/png": "[encoded data removed]",
      "text/plain": [
       "<Figure size 432x288 with 1 Axes>"
      ]
     },
     "metadata": {
      "needs_background": "light"
     },
     "output_type": "display_data"
    },
    {
     "data": {
      "image/png": "[encoded data removed]",
      "text/plain": [
       "<Figure size 432x288 with 1 Axes>"
      ]
     },
     "metadata": {
      "needs_background": "light"
     },
     "output_type": "display_data"
    },
    {
     "data": {
      "image/png": "[encoded data removed]",
      "text/plain": [
       "<Figure size 432x288 with 1 Axes>"
      ]
     },
     "metadata": {
      "needs_background": "light"
     },
     "output_type": "display_data"
    },
    {
     "data": {
      "image/png": "[encoded data removed]",
      "text/plain": [
       "<Figure size 432x288 with 1 Axes>"
      ]
     },
     "metadata": {
      "needs_background": "light"
     },
     "output_type": "display_data"
    },
    {
     "data": {
      "image/png": "[encoded data removed]",
      "text/plain": [
       "<Figure size 432x288 with 1 Axes>"
      ]
     },
     "metadata": {
      "needs_background": "light"
     },
     "output_type": "display_data"
    }
   ],
   "source": [
    "for i in range (-2, 3):\n",
    "    alpha = 10**i\n",
    "    rm = linear_model.Ridge(alpha=alpha)\n",
    "    ridge_model = rm.fit(X_train, y_train)\n",
    "    preds_ridge = ridge_model.predict(X_test)\n",
    "\n",
    "    plt.scatter(preds_ridge, actual_values, alpha=.75, color='b')\n",
    "    plt.xlabel('Predicted Price')\n",
    "    plt.ylabel('Actual Price')\n",
    "    plt.title('Ridge Regularization with alpha = {}'.format(alpha))\n",
    "    overlay = 'R^2 is: {}\\nRMSE is: {}'.format(\n",
    "                    ridge_model.score(X_test, y_test),\n",
    "                    mean_squared_error(y_test, preds_ridge))\n",
    "    plt.annotate(s=overlay,xy=(12.1,10.6),size='x-large')\n",
    "    plt.show()"
   ]
  },
  {
   "cell_type": "code",
   "execution_count": 41,
   "metadata": {},
   "outputs": [],
   "source": [
    "submission = pd.DataFrame()\n",
    "submission['building_id'] = test.building_id"
   ]
  },
  {
   "cell_type": "code",
   "execution_count": 42,
   "metadata": {},
   "outputs": [
    {
     "name": "stdout",
     "output_type": "stream",
     "text": [
      "(10000, 7)\n",
      "(19265,)\n"
     ]
    }
   ],
   "source": [
    "feats = test[['building_area','land_area','master_rate','bachelor_rate','doc_rate','XIII_5000','jobschool_rate']]\n",
    "\n",
    "print(feats.shape)\n",
    "print(predictions.shape)"
   ]
  },
  {
   "cell_type": "code",
   "execution_count": 43,
   "metadata": {},
   "outputs": [],
   "source": [
    "predictions = model.predict(feats)"
   ]
  },
  {
   "cell_type": "code",
   "execution_count": 44,
   "metadata": {},
   "outputs": [],
   "source": [
    "final_predictions = np.exp(predictions)"
   ]
  },
  {
   "cell_type": "code",
   "execution_count": 45,
   "metadata": {},
   "outputs": [
    {
     "name": "stdout",
     "output_type": "stream",
     "text": [
      "Original predictions are: \n",
      " [16.29215269 15.12870982 15.45154178 15.18169412 14.12547964] \n",
      "\n",
      "Final predictions are: \n",
      " [11901234.47091235  3718049.7179546   5134750.35335489  3920360.30264207\n",
      "  1363382.96154066]\n"
     ]
    }
   ],
   "source": [
    "print (\"Original predictions are: \\n\", predictions[:5], \"\\n\")\n",
    "print (\"Final predictions are: \\n\", final_predictions[:5])"
   ]
  },
  {
   "cell_type": "code",
   "execution_count": 46,
   "metadata": {},
   "outputs": [
    {
     "data": {
      "text/html": [
       "<div>\n",
       "<style scoped>\n",
       "    .dataframe tbody tr th:only-of-type {\n",
       "        vertical-align: middle;\n",
       "    }\n",
       "\n",
       "    .dataframe tbody tr th {\n",
       "        vertical-align: top;\n",
       "    }\n",
       "\n",
       "    .dataframe thead th {\n",
       "        text-align: right;\n",
       "    }\n",
       "</style>\n",
       "<table border=\"1\" class=\"dataframe\">\n",
       "  <thead>\n",
       "    <tr style=\"text-align: right;\">\n",
       "      <th></th>\n",
       "      <th>building_id</th>\n",
       "      <th>total_price</th>\n",
       "    </tr>\n",
       "  </thead>\n",
       "  <tbody>\n",
       "    <tr>\n",
       "      <th>0</th>\n",
       "      <td>X5gsdTWGS3W7JJQB</td>\n",
       "      <td>1.190123e+07</td>\n",
       "    </tr>\n",
       "    <tr>\n",
       "      <th>1</th>\n",
       "      <td>BTshNOJyKHnT2YIT</td>\n",
       "      <td>3.718050e+06</td>\n",
       "    </tr>\n",
       "    <tr>\n",
       "      <th>2</th>\n",
       "      <td>dhdymr0lV8N5kZOT</td>\n",
       "      <td>5.134750e+06</td>\n",
       "    </tr>\n",
       "    <tr>\n",
       "      <th>3</th>\n",
       "      <td>VEwyGGMcD56w5BOc</td>\n",
       "      <td>3.920360e+06</td>\n",
       "    </tr>\n",
       "    <tr>\n",
       "      <th>4</th>\n",
       "      <td>wmUeMoJZfsqaSX9b</td>\n",
       "      <td>1.363383e+06</td>\n",
       "    </tr>\n",
       "  </tbody>\n",
       "</table>\n",
       "</div>"
      ],
      "text/plain": [
       "        building_id   total_price\n",
       "0  X5gsdTWGS3W7JJQB  1.190123e+07\n",
       "1  BTshNOJyKHnT2YIT  3.718050e+06\n",
       "2  dhdymr0lV8N5kZOT  5.134750e+06\n",
       "3  VEwyGGMcD56w5BOc  3.920360e+06\n",
       "4  wmUeMoJZfsqaSX9b  1.363383e+06"
      ]
     },
     "execution_count": 46,
     "metadata": {},
     "output_type": "execute_result"
    }
   ],
   "source": [
    "submission['total_price'] = final_predictions\n",
    "submission.head()"
   ]
  },
  {
   "cell_type": "code",
   "execution_count": null,
   "metadata": {},
   "outputs": [],
   "source": [
    "submission.to_csv('submit_test.csv', index=False)"
   ]
  },
  {
   "cell_type": "code",
   "execution_count": null,
   "metadata": {},
   "outputs": [],
   "source": []
  }
 ],
 "metadata": {
  "kernelspec": {
   "display_name": "Python 3",
   "language": "python",
   "name": "python3"
  },
  "language_info": {
   "codemirror_mode": {
    "name": "ipython",
    "version": 3
   },
   "file_extension": ".py",
   "mimetype": "text/x-python",
   "name": "python",
   "nbconvert_exporter": "python",
   "pygments_lexer": "ipython3",
   "version": "3.5.2"
  }
 },
 "nbformat": 4,
 "nbformat_minor": 2
}
